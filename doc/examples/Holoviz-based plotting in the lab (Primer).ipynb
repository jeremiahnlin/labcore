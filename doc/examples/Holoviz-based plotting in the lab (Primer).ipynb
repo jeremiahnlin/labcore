{
 "cells": [
  {
   "cell_type": "markdown",
   "id": "4eba1de5-7568-4c44-9fd9-9c65ca200320",
   "metadata": {},
   "source": [
    "# Introduction"
   ]
  },
  {
   "cell_type": "markdown",
   "id": "678a84ea-729e-4db1-a5f1-44f64ac70ad1",
   "metadata": {},
   "source": [
    "This notebook gives a brief intro to using holoviz-based plotting, incl our own tools that work with it.\n",
    "\n",
    "To make sure interactivity works correctly, run this notebook in an environment that has all the right stuff installed (i.e., your labcore environment)\n",
    "\n",
    "## Some basic preliminaries\n",
    "\n",
    "We assume that `raw` data is in DataDict formats.\n",
    "For processing and plotting we convert to either `pandas.DataFrame` (for ungridded data) or `xarray.Dataset` (for gridded data).\n",
    "This approach should be the general way we handle data in the lab."
   ]
  },
  {
   "cell_type": "markdown",
   "id": "0cb8a2dd-7c46-468c-a6ef-19b178b50252",
   "metadata": {},
   "source": [
    "# Brief primer on vanilla holoviz\n",
    "\n",
    "We have some tools on top of it for general easy data exploration. \n",
    "\n",
    "But for data analysis it's probably very wise for everyone to learn how to use holoviz directly. \n",
    "It allows making custom plots extremely easily. \n",
    "\n",
    "Docs are here: https://holoviz.org; see in particular ``holoviews`` and `hvplot`.\n",
    "\n",
    "Here is a very simple example -- we use synthetic Rabi/Chevron data for that.\n",
    "But much more is possible -- check out the examples in the documentation for how to do different things."
   ]
  },
  {
   "cell_type": "code",
   "execution_count": 1,
   "id": "3a1511dd-11fd-41eb-a77b-fe92e9a5de64",
   "metadata": {},
   "outputs": [
    {
     "data": {
      "text/plain": [
       "signal: (275, 500)\n",
       "  ⌙ repetition: (275, 500)\n",
       "  ⌙ detuning (Hz): (275,)\n",
       "  ⌙ time (s): (275,)"
      ]
     },
     "execution_count": 1,
     "metadata": {},
     "output_type": "execute_result"
    }
   ],
   "source": [
    "# first, make a dataset in datadict\n",
    "import numpy as np\n",
    "\n",
    "from labcore.testing.dispersive_qubit_readout_data import chevron_dataset\n",
    "\n",
    "raw_data = chevron_dataset(\n",
    "    Omega_0=1e6,\n",
    "    Delta_vals=np.linspace(-1e6, 1e6, 11),\n",
    "    t_vals=np.linspace(0, 3e-6, 25),\n",
    "    n=500,  # number of shots\n",
    ")\n",
    "\n",
    "raw_data"
   ]
  },
  {
   "cell_type": "code",
   "execution_count": 2,
   "id": "068f70a4-f9a9-4a89-a4ff-364528400145",
   "metadata": {},
   "outputs": [
    {
     "ename": "KeyboardInterrupt",
     "evalue": "",
     "output_type": "error",
     "traceback": [
      "\u001b[1;31m---------------------------------------------------------------------------\u001b[0m",
      "\u001b[1;31mKeyboardInterrupt\u001b[0m                         Traceback (most recent call last)",
      "Cell \u001b[1;32mIn[2], line 3\u001b[0m\n\u001b[0;32m      1\u001b[0m \u001b[38;5;66;03m# next -- convert into xarray. since we know its a nice regular grid, that's the easiest choice here.\u001b[39;00m\n\u001b[0;32m      2\u001b[0m \u001b[38;5;28;01mfrom\u001b[39;00m \u001b[38;5;21;01mlabcore\u001b[39;00m\u001b[38;5;21;01m.\u001b[39;00m\u001b[38;5;21;01mdata\u001b[39;00m\u001b[38;5;21;01m.\u001b[39;00m\u001b[38;5;21;01mdatadict\u001b[39;00m \u001b[38;5;28;01mimport\u001b[39;00m datadict_to_meshgrid, dd2xr\n\u001b[1;32m----> 3\u001b[0m \u001b[38;5;28;01mfrom\u001b[39;00m \u001b[38;5;21;01mlabcore\u001b[39;00m\u001b[38;5;21;01m.\u001b[39;00m\u001b[38;5;21;01manalysis\u001b[39;00m \u001b[38;5;28;01mimport\u001b[39;00m split_complex\n\u001b[0;32m      5\u001b[0m \u001b[38;5;66;03m# with the holoviz (or all pydata) tools, complex data isn't always the best, so we split it immediately.\u001b[39;00m\n\u001b[0;32m      6\u001b[0m xrdata \u001b[38;5;241m=\u001b[39m split_complex(\n\u001b[0;32m      7\u001b[0m     dd2xr(datadict_to_meshgrid(raw_data))\n\u001b[0;32m      8\u001b[0m )\n",
      "File \u001b[1;32m~\\labcore\\labcore\\analysis\\__init__.py:1\u001b[0m\n\u001b[1;32m----> 1\u001b[0m \u001b[38;5;28;01mfrom\u001b[39;00m \u001b[38;5;21;01m.\u001b[39;00m\u001b[38;5;21;01mplotting\u001b[39;00m\u001b[38;5;21;01m.\u001b[39;00m\u001b[38;5;21;01mholo\u001b[39;00m \u001b[38;5;28;01mimport\u001b[39;00m Node, ValuePlot, ComplexHist, plot_data\n\u001b[0;32m      3\u001b[0m split_complex \u001b[38;5;241m=\u001b[39m Node\u001b[38;5;241m.\u001b[39msplit_complex\n",
      "File \u001b[1;32m~\\labcore\\labcore\\analysis\\plotting\\holo.py:26\u001b[0m\n\u001b[0;32m     24\u001b[0m \u001b[38;5;28;01mimport\u001b[39;00m \u001b[38;5;21;01mparam\u001b[39;00m\n\u001b[0;32m     25\u001b[0m \u001b[38;5;28;01mfrom\u001b[39;00m \u001b[38;5;21;01mparam\u001b[39;00m \u001b[38;5;28;01mimport\u001b[39;00m Parameter, Parameterized\n\u001b[1;32m---> 26\u001b[0m \u001b[38;5;28;01mimport\u001b[39;00m \u001b[38;5;21;01mpanel\u001b[39;00m \u001b[38;5;28;01mas\u001b[39;00m \u001b[38;5;21;01mpn\u001b[39;00m\n\u001b[0;32m     27\u001b[0m \u001b[38;5;28;01mfrom\u001b[39;00m \u001b[38;5;21;01mpanel\u001b[39;00m\u001b[38;5;21;01m.\u001b[39;00m\u001b[38;5;21;01mwidgets\u001b[39;00m \u001b[38;5;28;01mimport\u001b[39;00m RadioButtonGroup \u001b[38;5;28;01mas\u001b[39;00m RBG\n\u001b[0;32m     29\u001b[0m \u001b[38;5;28;01mimport\u001b[39;00m \u001b[38;5;21;01mholoviews\u001b[39;00m \u001b[38;5;28;01mas\u001b[39;00m \u001b[38;5;21;01mhv\u001b[39;00m\n",
      "File \u001b[1;32m~\\anaconda3\\envs\\labcore\\lib\\site-packages\\panel\\__init__.py:48\u001b[0m\n\u001b[0;32m      1\u001b[0m \u001b[38;5;124;03m\"\"\"\u001b[39;00m\n\u001b[0;32m      2\u001b[0m \u001b[38;5;124;03mPanel is a high level app and dashboarding framework\u001b[39;00m\n\u001b[0;32m      3\u001b[0m \u001b[38;5;124;03m====================================================\u001b[39;00m\n\u001b[1;32m   (...)\u001b[0m\n\u001b[0;32m     46\u001b[0m \u001b[38;5;124;03mhttps://panel.holoviz.org/getting_started/index.html\u001b[39;00m\n\u001b[0;32m     47\u001b[0m \u001b[38;5;124;03m\"\"\"\u001b[39;00m\n\u001b[1;32m---> 48\u001b[0m \u001b[38;5;28;01mfrom\u001b[39;00m \u001b[38;5;21;01m.\u001b[39;00m \u001b[38;5;28;01mimport\u001b[39;00m layout  \u001b[38;5;66;03m# noqa\u001b[39;00m\n\u001b[0;32m     49\u001b[0m \u001b[38;5;28;01mfrom\u001b[39;00m \u001b[38;5;21;01m.\u001b[39;00m \u001b[38;5;28;01mimport\u001b[39;00m links  \u001b[38;5;66;03m# noqa\u001b[39;00m\n\u001b[0;32m     50\u001b[0m \u001b[38;5;28;01mfrom\u001b[39;00m \u001b[38;5;21;01m.\u001b[39;00m \u001b[38;5;28;01mimport\u001b[39;00m pane  \u001b[38;5;66;03m# noqa\u001b[39;00m\n",
      "File \u001b[1;32m~\\anaconda3\\envs\\labcore\\lib\\site-packages\\panel\\layout\\__init__.py:31\u001b[0m\n\u001b[0;32m      1\u001b[0m \u001b[38;5;124;03m\"\"\"\u001b[39;00m\n\u001b[0;32m      2\u001b[0m \u001b[38;5;124;03mLayout\u001b[39;00m\n\u001b[0;32m      3\u001b[0m \u001b[38;5;124;03m======\u001b[39;00m\n\u001b[1;32m   (...)\u001b[0m\n\u001b[0;32m     29\u001b[0m \u001b[38;5;124;03mhttps://panel.holoviz.org/getting_started/index.html\u001b[39;00m\n\u001b[0;32m     30\u001b[0m \u001b[38;5;124;03m\"\"\"\u001b[39;00m\n\u001b[1;32m---> 31\u001b[0m \u001b[38;5;28;01mfrom\u001b[39;00m \u001b[38;5;21;01m.\u001b[39;00m\u001b[38;5;21;01maccordion\u001b[39;00m \u001b[38;5;28;01mimport\u001b[39;00m Accordion  \u001b[38;5;66;03m# noqa\u001b[39;00m\n\u001b[0;32m     32\u001b[0m \u001b[38;5;28;01mfrom\u001b[39;00m \u001b[38;5;21;01m.\u001b[39;00m\u001b[38;5;21;01mbase\u001b[39;00m \u001b[38;5;28;01mimport\u001b[39;00m (  \u001b[38;5;66;03m# noqa\u001b[39;00m\n\u001b[0;32m     33\u001b[0m     Column, ListLike, ListPanel, Panel, Row, WidgetBox,\n\u001b[0;32m     34\u001b[0m )\n\u001b[0;32m     35\u001b[0m \u001b[38;5;28;01mfrom\u001b[39;00m \u001b[38;5;21;01m.\u001b[39;00m\u001b[38;5;21;01mcard\u001b[39;00m \u001b[38;5;28;01mimport\u001b[39;00m Card  \u001b[38;5;66;03m# noqa\u001b[39;00m\n",
      "File \u001b[1;32m~\\anaconda3\\envs\\labcore\\lib\\site-packages\\panel\\layout\\accordion.py:9\u001b[0m\n\u001b[0;32m      3\u001b[0m \u001b[38;5;28;01mfrom\u001b[39;00m \u001b[38;5;21;01mtyping\u001b[39;00m \u001b[38;5;28;01mimport\u001b[39;00m (\n\u001b[0;32m      4\u001b[0m     TYPE_CHECKING, Callable, ClassVar, List, Mapping,\n\u001b[0;32m      5\u001b[0m )\n\u001b[0;32m      7\u001b[0m \u001b[38;5;28;01mimport\u001b[39;00m \u001b[38;5;21;01mparam\u001b[39;00m\n\u001b[1;32m----> 9\u001b[0m \u001b[38;5;28;01mfrom\u001b[39;00m \u001b[38;5;21;01mbokeh\u001b[39;00m\u001b[38;5;21;01m.\u001b[39;00m\u001b[38;5;21;01mmodels\u001b[39;00m \u001b[38;5;28;01mimport\u001b[39;00m Column \u001b[38;5;28;01mas\u001b[39;00m BkColumn, CustomJS\n\u001b[0;32m     11\u001b[0m \u001b[38;5;28;01mfrom\u001b[39;00m \u001b[38;5;21;01m.\u001b[39;00m\u001b[38;5;21;01m.\u001b[39;00m\u001b[38;5;21;01mreactive\u001b[39;00m \u001b[38;5;28;01mimport\u001b[39;00m Reactive\n\u001b[0;32m     12\u001b[0m \u001b[38;5;28;01mfrom\u001b[39;00m \u001b[38;5;21;01m.\u001b[39;00m\u001b[38;5;21;01mbase\u001b[39;00m \u001b[38;5;28;01mimport\u001b[39;00m NamedListPanel\n",
      "File \u001b[1;32m~\\anaconda3\\envs\\labcore\\lib\\site-packages\\bokeh\\models\\__init__.py:33\u001b[0m\n\u001b[0;32m     27\u001b[0m \u001b[38;5;66;03m#-----------------------------------------------------------------------------\u001b[39;00m\n\u001b[0;32m     28\u001b[0m \u001b[38;5;66;03m# Imports\u001b[39;00m\n\u001b[0;32m     29\u001b[0m \u001b[38;5;66;03m#-----------------------------------------------------------------------------\u001b[39;00m\n\u001b[0;32m     30\u001b[0m \n\u001b[0;32m     31\u001b[0m \u001b[38;5;66;03m# Bokeh imports\u001b[39;00m\n\u001b[0;32m     32\u001b[0m \u001b[38;5;28;01mfrom\u001b[39;00m \u001b[38;5;21;01m.\u001b[39;00m\u001b[38;5;21;01m.\u001b[39;00m\u001b[38;5;21;01mmodel\u001b[39;00m \u001b[38;5;28;01mimport\u001b[39;00m Model\n\u001b[1;32m---> 33\u001b[0m \u001b[38;5;28;01mfrom\u001b[39;00m \u001b[38;5;21;01m.\u001b[39;00m \u001b[38;5;28;01mimport\u001b[39;00m (\n\u001b[0;32m     34\u001b[0m     annotations,\n\u001b[0;32m     35\u001b[0m     axes,\n\u001b[0;32m     36\u001b[0m     callbacks,\n\u001b[0;32m     37\u001b[0m     canvas,\n\u001b[0;32m     38\u001b[0m     coordinates,\n\u001b[0;32m     39\u001b[0m     css,\n\u001b[0;32m     40\u001b[0m     expressions,\n\u001b[0;32m     41\u001b[0m     filters,\n\u001b[0;32m     42\u001b[0m     formatters,\n\u001b[0;32m     43\u001b[0m     glyphs,\n\u001b[0;32m     44\u001b[0m     graphs,\n\u001b[0;32m     45\u001b[0m     grids,\n\u001b[0;32m     46\u001b[0m     labeling,\n\u001b[0;32m     47\u001b[0m     layouts,\n\u001b[0;32m     48\u001b[0m     map_plots,\n\u001b[0;32m     49\u001b[0m     mappers,\n\u001b[0;32m     50\u001b[0m     plots,\n\u001b[0;32m     51\u001b[0m     ranges,\n\u001b[0;32m     52\u001b[0m     renderers,\n\u001b[0;32m     53\u001b[0m     scales,\n\u001b[0;32m     54\u001b[0m     selections,\n\u001b[0;32m     55\u001b[0m     selectors,\n\u001b[0;32m     56\u001b[0m     sources,\n\u001b[0;32m     57\u001b[0m     text,\n\u001b[0;32m     58\u001b[0m     textures,\n\u001b[0;32m     59\u001b[0m     tickers,\n\u001b[0;32m     60\u001b[0m     tiles,\n\u001b[0;32m     61\u001b[0m     tools,\n\u001b[0;32m     62\u001b[0m     transforms,\n\u001b[0;32m     63\u001b[0m     ui,\n\u001b[0;32m     64\u001b[0m     widgets,\n\u001b[0;32m     65\u001b[0m )\n\u001b[0;32m     66\u001b[0m \u001b[38;5;28;01mfrom\u001b[39;00m \u001b[38;5;21;01m.\u001b[39;00m\u001b[38;5;21;01mannotations\u001b[39;00m \u001b[38;5;28;01mimport\u001b[39;00m \u001b[38;5;241m*\u001b[39m\n\u001b[0;32m     67\u001b[0m \u001b[38;5;28;01mfrom\u001b[39;00m \u001b[38;5;21;01m.\u001b[39;00m\u001b[38;5;21;01maxes\u001b[39;00m \u001b[38;5;28;01mimport\u001b[39;00m \u001b[38;5;241m*\u001b[39m\n",
      "File \u001b[1;32m<frozen importlib._bootstrap>:1027\u001b[0m, in \u001b[0;36m_find_and_load\u001b[1;34m(name, import_)\u001b[0m\n",
      "File \u001b[1;32m<frozen importlib._bootstrap>:1002\u001b[0m, in \u001b[0;36m_find_and_load_unlocked\u001b[1;34m(name, import_)\u001b[0m\n",
      "File \u001b[1;32m<frozen importlib._bootstrap>:945\u001b[0m, in \u001b[0;36m_find_spec\u001b[1;34m(name, path, target)\u001b[0m\n",
      "File \u001b[1;32m<frozen importlib._bootstrap_external>:1439\u001b[0m, in \u001b[0;36mfind_spec\u001b[1;34m(cls, fullname, path, target)\u001b[0m\n",
      "File \u001b[1;32m<frozen importlib._bootstrap_external>:1411\u001b[0m, in \u001b[0;36m_get_spec\u001b[1;34m(cls, fullname, path, target)\u001b[0m\n",
      "File \u001b[1;32m<frozen importlib._bootstrap_external>:1563\u001b[0m, in \u001b[0;36mfind_spec\u001b[1;34m(self, fullname, target)\u001b[0m\n",
      "File \u001b[1;32m<frozen importlib._bootstrap_external>:161\u001b[0m, in \u001b[0;36m_path_isfile\u001b[1;34m(path)\u001b[0m\n",
      "File \u001b[1;32m<frozen importlib._bootstrap_external>:153\u001b[0m, in \u001b[0;36m_path_is_mode_type\u001b[1;34m(path, mode)\u001b[0m\n",
      "File \u001b[1;32m<frozen importlib._bootstrap_external>:147\u001b[0m, in \u001b[0;36m_path_stat\u001b[1;34m(path)\u001b[0m\n",
      "\u001b[1;31mKeyboardInterrupt\u001b[0m: "
     ]
    }
   ],
   "source": [
    "# next -- convert into xarray. since we know its a nice regular grid, that's the easiest choice here.\n",
    "from labcore.data.datadict import datadict_to_meshgrid, dd2xr\n",
    "from labcore.analysis import split_complex\n",
    "\n",
    "# with the holoviz (or all pydata) tools, complex data isn't always the best, so we split it immediately.\n",
    "xrdata = split_complex(\n",
    "    dd2xr(datadict_to_meshgrid(raw_data))\n",
    ")\n",
    "xrdata"
   ]
  },
  {
   "cell_type": "code",
   "execution_count": null,
   "id": "b3ea7ded-bfc3-46aa-845e-45867eb5ab68",
   "metadata": {},
   "outputs": [],
   "source": [
    "# now we can directly use hvplot on this\n",
    "import hvplot.xarray  # this import patches xarray objects so we can use hvplot on them.\n",
    "\n",
    "from bokeh.models import CrosshairTool\n",
    "\n",
    "# plot: average over repetition, then plot the real part as 2d map.\n",
    "xrdata.signal_Re.mean('repetition').hvplot.quadmesh(\n",
    "    x='detuning',\n",
    "    y='time',\n",
    ")"
   ]
  },
  {
   "cell_type": "code",
   "execution_count": null,
   "id": "b97b9f58-8391-4e21-9b4f-fbf900730268",
   "metadata": {},
   "outputs": [],
   "source": [
    "# it's also pretty easy to make linecuts with sliders\n",
    "_data = xrdata.mean('repetition')\n",
    "\n",
    "# here: overlay line and scatter plot\n",
    "# can change x to get a different cut\n",
    "_data.hvplot.line(x='time') * _data.hvplot.scatter(x='time')"
   ]
  },
  {
   "cell_type": "code",
   "execution_count": null,
   "id": "78e5db01-ae77-4dba-a9c7-0a6881b6e9ca",
   "metadata": {},
   "outputs": [],
   "source": [
    "# looking at readout histograms -- use simply all points in the set\n",
    "# hexbin is a very simple way to have a quick look at this. \n",
    "# doesn't offer too much control, but is \n",
    "xrdata.hvplot(\n",
    "    kind='hexbin',\n",
    "    aspect=1,\n",
    "    groupby=[],\n",
    "    x='signal_Re',\n",
    "    y='signal_Im',\n",
    ")"
   ]
  },
  {
   "cell_type": "code",
   "execution_count": null,
   "id": "30152aa4-ac82-45b5-a16e-3364f8d492b9",
   "metadata": {},
   "outputs": [],
   "source": [
    "# if we want to select based on some time/detuning values...\n",
    "xrdata.hvplot(\n",
    "    kind='hexbin',\n",
    "    aspect=1,\n",
    "    groupby=['time', 'detuning'],\n",
    "    x='signal_Re',\n",
    "    y='signal_Im',\n",
    "    xlim=(-3,3),\n",
    "    ylim=(-3,3)\n",
    ")"
   ]
  },
  {
   "cell_type": "markdown",
   "id": "6eb785a5-6185-4306-8689-91d601498f44",
   "metadata": {},
   "source": [
    "# Using our own data exploration tools"
   ]
  },
  {
   "cell_type": "markdown",
   "id": "5a8a6cc3-dca8-4c24-ac2d-7f346d44d30c",
   "metadata": {},
   "source": [
    "## The tldr;\n",
    "\n",
    "A very simple tool for data exploration exists -- it works almost like plottr, but inside jupyter notebooks."
   ]
  },
  {
   "cell_type": "code",
   "execution_count": null,
   "id": "155e6761-65af-4fe5-beee-de325128b2dd",
   "metadata": {
    "scrolled": true
   },
   "outputs": [],
   "source": [
    "# a very simple app for exploring typical data\n",
    "# it has a few issues still -- sometimes it requires going back to setting x and y to None to reset sliders...\n",
    "\n",
    "\n",
    "from labcore.analysis.plotting.holo import plot_data\n",
    "\n",
    "plot_data(xrdata.mean('repetition'))"
   ]
  },
  {
   "cell_type": "code",
   "execution_count": null,
   "id": "d85b4879-5729-449a-9eef-a8e5aed290f5",
   "metadata": {},
   "outputs": [],
   "source": []
  },
  {
   "cell_type": "code",
   "execution_count": null,
   "id": "4d8871ff-684f-4bf9-b6b4-53e97f11ebad",
   "metadata": {},
   "outputs": [],
   "source": []
  },
  {
   "cell_type": "code",
   "execution_count": null,
   "id": "36b61ea6-474e-47c2-9361-91789ed5f7d2",
   "metadata": {},
   "outputs": [],
   "source": []
  },
  {
   "cell_type": "code",
   "execution_count": null,
   "id": "f619b943-08d1-479b-88ec-57b63eb5c5b5",
   "metadata": {},
   "outputs": [],
   "source": []
  },
  {
   "cell_type": "code",
   "execution_count": null,
   "id": "57f3b76c-1aa8-4db0-a68a-fb1fc097743e",
   "metadata": {},
   "outputs": [],
   "source": []
  },
  {
   "cell_type": "code",
   "execution_count": null,
   "id": "79d17595-bc16-458d-a3ce-c29875bb19b6",
   "metadata": {},
   "outputs": [],
   "source": []
  },
  {
   "cell_type": "markdown",
   "id": "c1fe5c09-c5a0-4fc4-818e-c2b31d3b6594",
   "metadata": {},
   "source": [
    "# Prototype"
   ]
  },
  {
   "cell_type": "code",
   "execution_count": null,
   "id": "319fe901-72e4-4556-8b0e-032b40ebcd2c",
   "metadata": {
    "tags": []
   },
   "outputs": [],
   "source": [
    "%load_ext autoreload\n",
    "%autoreload 2"
   ]
  },
  {
   "cell_type": "code",
   "execution_count": null,
   "id": "43d150cd-0aa0-4950-9663-98f422a9c9c5",
   "metadata": {},
   "outputs": [],
   "source": [
    "import numpy as np\n",
    "import pandas as pd\n",
    "import xarray as xr\n",
    "\n",
    "from matplotlib import pyplot as plt\n",
    "\n",
    "import param\n",
    "from param import Parameter, Parameterized\n",
    "import panel as pn\n",
    "\n",
    "import holoviews as hv\n",
    "hv.extension('bokeh')\n",
    "\n",
    "import hvplot.xarray\n",
    "import hvplot.pandas"
   ]
  },
  {
   "cell_type": "code",
   "execution_count": null,
   "id": "e8dcbb46-b2a2-4e3e-bcc3-d0381069bafb",
   "metadata": {},
   "outputs": [],
   "source": [
    "from labcore.data.datadict import DataDict, datadict_to_meshgrid, str2dd, dd2df, dd2xr\n",
    "from labcore.testing.dispersive_qubit_readout_data import rabi, chevron_dataset\n",
    "from labcore.analysis import split_complex\n",
    "\n",
    "raw_data = chevron_dataset(\n",
    "    Omega_0=1e6,\n",
    "    Delta_vals=np.linspace(-1e6, 1e6, 11),\n",
    "    t_vals=np.linspace(0, 3e-6, 25),\n",
    "    n=500,  # number of shots\n",
    ")\n",
    "\n",
    "xrdata = split_complex(\n",
    "    dd2xr(datadict_to_meshgrid(raw_data))\n",
    ")\n",
    "xrdata"
   ]
  },
  {
   "cell_type": "code",
   "execution_count": null,
   "id": "e3ac46c5-15e2-41b2-8952-3edff298651e",
   "metadata": {},
   "outputs": [],
   "source": []
  },
  {
   "cell_type": "code",
   "execution_count": null,
   "id": "9aaae979-2f06-4b5f-bb5c-1d4fcdb9e5bc",
   "metadata": {},
   "outputs": [],
   "source": []
  },
  {
   "cell_type": "code",
   "execution_count": null,
   "id": "0ea1ee05-4e18-48e9-be53-b5b78390a733",
   "metadata": {},
   "outputs": [],
   "source": []
  },
  {
   "cell_type": "code",
   "execution_count": null,
   "id": "acda03d9-50d4-4b2d-be4f-a1d4bf1e3cc1",
   "metadata": {},
   "outputs": [],
   "source": []
  },
  {
   "cell_type": "markdown",
   "id": "0128a524-fb26-4353-b1c1-8dbe7a0fc5de",
   "metadata": {
    "tags": []
   },
   "source": [
    "## inspect with own app"
   ]
  },
  {
   "cell_type": "markdown",
   "id": "09fe383b-c0ad-417d-abe6-8cf8eeb88227",
   "metadata": {},
   "source": []
  },
  {
   "cell_type": "code",
   "execution_count": null,
   "id": "a0612ba1-0fef-4a0c-af06-d30b15d02bb1",
   "metadata": {},
   "outputs": [],
   "source": [
    "from labcore.analysis.plotting.holo import Node, LoaderNodeBase, LoaderNodePath, ValuePlot, ComplexHist\n",
    "from labcore.data.datadict_storage import datadict_from_hdf5\n",
    "\n",
    "class RabiSimulation(LoaderNodeBase):\n",
    "    def load_data(self) -> DataDict:\n",
    "        Omega_0 = 1\n",
    "        Delta_vals = np.linspace(-2, 2, 41)\n",
    "        t_vals = np.linspace(0, 3, 31)\n",
    "        nreps = 50\n",
    "        dd = chevron_dataset(Omega_0, Delta_vals, t_vals, nreps).expand()\n",
    "        return dd       \n",
    "s = RabiSimulation(name='sim')\n",
    "#s = LoaderNodePath(name = 'sim', path = 'Specify Path Here!')\n",
    "app = pn.Column(\n",
    "    s,\n",
    "    s.plot,\n",
    ")\n",
    "app"
   ]
  },
  {
   "cell_type": "code",
   "execution_count": null,
   "id": "33f92695",
   "metadata": {},
   "outputs": [],
   "source": [
    "p = ComplexHist(name='testplot', data_in=s.data_out)\n",
    "p"
   ]
  },
  {
   "cell_type": "code",
   "execution_count": null,
   "id": "e701f071",
   "metadata": {},
   "outputs": [],
   "source": [
    "from labcore.measurement.sweep import Sweep, sweep_parameter\n",
    "from labcore.measurement.record import record_as\n",
    "import os\n",
    "\n",
    "from labcore.analysis.plotting.holo import LoaderNodeSweep\n",
    "\n",
    "\n",
    "def square_fn(x):\n",
    "    return x**2 - 6*x + 5\n",
    "\n",
    "my_sweep = sweep_parameter('x', np.linspace(-10, 10), record_as(square_fn, 'y'))\n",
    "\n",
    "s = LoaderNodeSweep(input_sweep=my_sweep, name = 'experiment', sweep_func = None)\n",
    "app = pn.Column(\n",
    "    s,\n",
    "    s.plot,\n",
    ")\n",
    "app"
   ]
  },
  {
   "cell_type": "code",
   "execution_count": null,
   "id": "f62c2cec",
   "metadata": {},
   "outputs": [],
   "source": []
  },
  {
   "cell_type": "code",
   "execution_count": null,
   "id": "83244413-d551-4c96-9923-1b82a443bdde",
   "metadata": {},
   "outputs": [],
   "source": []
  }
 ],
 "metadata": {
  "kernelspec": {
   "display_name": "Python 3 (ipykernel)",
   "language": "python",
   "name": "python3"
  },
  "language_info": {
   "codemirror_mode": {
    "name": "ipython",
    "version": 3
   },
   "file_extension": ".py",
   "mimetype": "text/x-python",
   "name": "python",
   "nbconvert_exporter": "python",
   "pygments_lexer": "ipython3",
   "version": "3.10.12"
  },
  "toc-autonumbering": true
 },
 "nbformat": 4,
 "nbformat_minor": 5
}
